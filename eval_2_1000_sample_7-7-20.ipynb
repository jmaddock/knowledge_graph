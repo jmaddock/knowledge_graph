{
 "cells": [
  {
   "cell_type": "markdown",
   "metadata": {},
   "source": [
    "## Create samples for clustered vital 1k + links (`Edcast 1000`) dataset\n",
    "\n",
    "**Author:** Jim Maddock\n",
    "\n",
    "**Last Updated:** 7-7-20\n",
    "\n",
    "**Description:**"
   ]
  },
  {
   "cell_type": "code",
   "execution_count": 9,
   "metadata": {},
   "outputs": [],
   "source": [
    "import json\n",
    "import pandas as pd\n",
    "import numpy as np"
   ]
  },
  {
   "cell_type": "markdown",
   "metadata": {},
   "source": [
    "### Notebook Setup\n",
    "Import edcast data from json file and create pandas dataframe.  Import ORES predictions from https://figshare.com/articles/Topics_for_each_Wikipedia_Article_across_Languages/12127434 merge with edcast dataframe."
   ]
  },
  {
   "cell_type": "code",
   "execution_count": 2,
   "metadata": {},
   "outputs": [],
   "source": [
    "FILEPATH = '/Users/klogg/research_data/wmf_knowledge_graph/wiki_5-28-20/wiki_1000_clusters_6-8-20.json'\n",
    "\n",
    "with open(FILEPATH) as json_file:\n",
    "    cluster_65 = json.load(json_file)"
   ]
  },
  {
   "cell_type": "code",
   "execution_count": 3,
   "metadata": {},
   "outputs": [],
   "source": [
    "df = pd.DataFrame()\n",
    "\n",
    "for i, cluster in enumerate(cluster_65):\n",
    "    chunk = []\n",
    "    for article in cluster_65[cluster]['items']:\n",
    "        row = {\n",
    "            'label':cluster_65[cluster]['label'],\n",
    "            'cluster':cluster_65[cluster]['cluster'],\n",
    "            'w':article['w'],\n",
    "            'title':article['title']\n",
    "        }\n",
    "        chunk.append(row)\n",
    "    df = df.append(pd.DataFrame(chunk))\n",
    "    #print('finished cluster: {0}'.format(i))\n",
    "    \n",
    "df['title'] = df['title'].apply(lambda x: x.replace(' ','_'))"
   ]
  },
  {
   "cell_type": "code",
   "execution_count": 47,
   "metadata": {},
   "outputs": [],
   "source": [
    "NUM_BINS = 10\n",
    "SAMPLES_PER_BIN = 5\n",
    "\n",
    "out, bins = pd.qcut(df.groupby('cluster').size(),NUM_BINS, retbins=True)\n",
    "clusters_to_sample = out.to_frame('bin').groupby('bin').apply(lambda x: x.sample(SAMPLES_PER_BIN)).index.get_level_values('cluster').values\n",
    "sample = df.loc[df['cluster'].isin(clusters_to_sample)]"
   ]
  },
  {
   "cell_type": "code",
   "execution_count": 48,
   "metadata": {},
   "outputs": [],
   "source": [
    "SAMPLE_OUTPUT = '/Users/klogg/research_data/wmf_knowledge_graph/samples/wiki_1000_clusters_sample_50_7-7-20.csv'\n",
    "\n",
    "sample.to_csv(SAMPLE_OUTPUT, index=False)"
   ]
  },
  {
   "cell_type": "code",
   "execution_count": null,
   "metadata": {},
   "outputs": [],
   "source": []
  }
 ],
 "metadata": {
  "kernelspec": {
   "display_name": "Python 3",
   "language": "python",
   "name": "python3"
  },
  "language_info": {
   "codemirror_mode": {
    "name": "ipython",
    "version": 3
   },
   "file_extension": ".py",
   "mimetype": "text/x-python",
   "name": "python",
   "nbconvert_exporter": "python",
   "pygments_lexer": "ipython3",
   "version": "3.7.3"
  }
 },
 "nbformat": 4,
 "nbformat_minor": 4
}
