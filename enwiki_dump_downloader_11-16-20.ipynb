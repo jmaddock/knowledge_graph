{
 "cells": [
  {
   "cell_type": "code",
   "execution_count": 1,
   "metadata": {},
   "outputs": [],
   "source": [
    "import requests\n",
    "import bz2\n",
    "import mwxml\n",
    "import json\n",
    "from bs4 import BeautifulSoup"
   ]
  },
  {
   "cell_type": "code",
   "execution_count": 64,
   "metadata": {},
   "outputs": [],
   "source": [
    "BASE_URL = 'https://dumps.wikimedia.org/enwiki/latest/'\n",
    "\n",
    "r = requests.get(BASE_URL)"
   ]
  },
  {
   "cell_type": "code",
   "execution_count": 42,
   "metadata": {},
   "outputs": [
    {
     "data": {
      "text/plain": [
       "['enwiki-latest-pages-articles.xml.bz2',\n",
       " 'enwiki-latest-pages-articles1.xml-p1p41242.bz2',\n",
       " 'enwiki-latest-pages-articles10.xml-p4045403p5399366.bz2',\n",
       " 'enwiki-latest-pages-articles11.xml-p5399367p6899366.bz2',\n",
       " 'enwiki-latest-pages-articles11.xml-p6899367p7054859.bz2',\n",
       " 'enwiki-latest-pages-articles12.xml-p7054860p8554859.bz2',\n",
       " 'enwiki-latest-pages-articles12.xml-p8554860p9172788.bz2',\n",
       " 'enwiki-latest-pages-articles13.xml-p10672789p11659682.bz2',\n",
       " 'enwiki-latest-pages-articles13.xml-p9172789p10672788.bz2',\n",
       " 'enwiki-latest-pages-articles14.xml-p11659683p13159682.bz2',\n",
       " 'enwiki-latest-pages-articles14.xml-p13159683p14324602.bz2',\n",
       " 'enwiki-latest-pages-articles15.xml-p14324603p15824602.bz2',\n",
       " 'enwiki-latest-pages-articles15.xml-p15824603p17324602.bz2',\n",
       " 'enwiki-latest-pages-articles15.xml-p17324603p17460152.bz2',\n",
       " 'enwiki-latest-pages-articles16.xml-p17460153p18960152.bz2',\n",
       " 'enwiki-latest-pages-articles16.xml-p18960153p20460152.bz2',\n",
       " 'enwiki-latest-pages-articles16.xml-p20460153p20570392.bz2',\n",
       " 'enwiki-latest-pages-articles17.xml-p20570393p22070392.bz2',\n",
       " 'enwiki-latest-pages-articles17.xml-p22070393p23570392.bz2',\n",
       " 'enwiki-latest-pages-articles17.xml-p23570393p23716197.bz2',\n",
       " 'enwiki-latest-pages-articles18.xml-p23716198p25216197.bz2',\n",
       " 'enwiki-latest-pages-articles18.xml-p25216198p26716197.bz2',\n",
       " 'enwiki-latest-pages-articles18.xml-p26716198p27121850.bz2',\n",
       " 'enwiki-latest-pages-articles19.xml-p27121851p28621850.bz2',\n",
       " 'enwiki-latest-pages-articles19.xml-p28621851p30121850.bz2',\n",
       " 'enwiki-latest-pages-articles19.xml-p30121851p31308442.bz2',\n",
       " 'enwiki-latest-pages-articles2.xml-p41243p151573.bz2',\n",
       " 'enwiki-latest-pages-articles20.xml-p31308443p32808442.bz2',\n",
       " 'enwiki-latest-pages-articles20.xml-p32808443p34308442.bz2',\n",
       " 'enwiki-latest-pages-articles20.xml-p34308443p35522432.bz2',\n",
       " 'enwiki-latest-pages-articles21.xml-p35522433p37022432.bz2',\n",
       " 'enwiki-latest-pages-articles21.xml-p37022433p38522432.bz2',\n",
       " 'enwiki-latest-pages-articles21.xml-p38522433p39996245.bz2',\n",
       " 'enwiki-latest-pages-articles22.xml-p39996246p41496245.bz2',\n",
       " 'enwiki-latest-pages-articles22.xml-p41496246p42996245.bz2',\n",
       " 'enwiki-latest-pages-articles22.xml-p42996246p44496245.bz2',\n",
       " 'enwiki-latest-pages-articles22.xml-p44496246p44788941.bz2',\n",
       " 'enwiki-latest-pages-articles23.xml-p44788942p46288941.bz2',\n",
       " 'enwiki-latest-pages-articles23.xml-p46288942p47788941.bz2',\n",
       " 'enwiki-latest-pages-articles23.xml-p47788942p49288941.bz2',\n",
       " 'enwiki-latest-pages-articles23.xml-p49288942p50564553.bz2',\n",
       " 'enwiki-latest-pages-articles24.xml-p50564554p52064553.bz2',\n",
       " 'enwiki-latest-pages-articles24.xml-p52064554p53564553.bz2',\n",
       " 'enwiki-latest-pages-articles24.xml-p53564554p55064553.bz2',\n",
       " 'enwiki-latest-pages-articles24.xml-p55064554p56564553.bz2',\n",
       " 'enwiki-latest-pages-articles24.xml-p56564554p57025655.bz2',\n",
       " 'enwiki-latest-pages-articles25.xml-p57025656p58525655.bz2',\n",
       " 'enwiki-latest-pages-articles25.xml-p58525656p60025655.bz2',\n",
       " 'enwiki-latest-pages-articles25.xml-p60025656p61525655.bz2',\n",
       " 'enwiki-latest-pages-articles25.xml-p61525656p62585850.bz2',\n",
       " 'enwiki-latest-pages-articles26.xml-p62585851p63975909.bz2',\n",
       " 'enwiki-latest-pages-articles27.xml-p63975910p65475909.bz2',\n",
       " 'enwiki-latest-pages-articles27.xml-p65475910p65638849.bz2',\n",
       " 'enwiki-latest-pages-articles27.xml-p65475910p65740670.bz2',\n",
       " 'enwiki-latest-pages-articles3.xml-p151574p311329.bz2',\n",
       " 'enwiki-latest-pages-articles4.xml-p311330p558391.bz2',\n",
       " 'enwiki-latest-pages-articles5.xml-p558392p958045.bz2',\n",
       " 'enwiki-latest-pages-articles6.xml-p958046p1483661.bz2',\n",
       " 'enwiki-latest-pages-articles7.xml-p1483662p2134111.bz2',\n",
       " 'enwiki-latest-pages-articles8.xml-p2134112p2936260.bz2',\n",
       " 'enwiki-latest-pages-articles9.xml-p2936261p4045402.bz2']"
      ]
     },
     "execution_count": 42,
     "metadata": {},
     "output_type": "execute_result"
    }
   ],
   "source": [
    "soup = BeautifulSoup(r.text)\n",
    "link_list = [link['href'] for link in soup.find_all('a')\n",
    "             if link['href'].find('enwiki-latest-pages-articles') >= 0 \n",
    "             and link['href'].find('multistream') < 0\n",
    "             and link['href'].find('rss') < 0\n",
    "             and link['href'].find('enwiki-latest-pages-articles.xml.bz2') < 0]\n",
    "link_list"
   ]
  },
  {
   "cell_type": "code",
   "execution_count": 35,
   "metadata": {},
   "outputs": [
    {
     "data": {
      "text/plain": [
       "'enwiki-latest-abstract.xml.gz'"
      ]
     },
     "execution_count": 35,
     "metadata": {},
     "output_type": "execute_result"
    }
   ],
   "source": [
    "soup.find_all('a')[1]['href']"
   ]
  },
  {
   "cell_type": "code",
   "execution_count": 6,
   "metadata": {},
   "outputs": [],
   "source": [
    "URL = 'https://dumps.wikimedia.org/enwiki/latest/enwiki-latest-pages-articles1.xml-p1p41242.bz2'\n",
    "page_list = []\n",
    "\n",
    "with requests.get(URL, stream=True) as request:\n",
    "    with bz2.open(request.raw, \"rb\") as filestream:\n",
    "        dump = mwxml.Dump.from_file(filestream)\n",
    "        for i, page in enumerate(dump):\n",
    "            for rev in page:\n",
    "                page_list.append({\n",
    "                    'title':page.title,\n",
    "                    'page_id':page.id,\n",
    "                    'rev_id':rev.id,\n",
    "                    'text':rev.text,\n",
    "                    'redirect':page.redirect\n",
    "                })\n",
    "\n",
    "with bz2.open(\"/Users/klogg/Desktop/testfile.bz2\", \"w\") as outfile:\n",
    "    outfile.write(json.dumps(page_list).encode('utf-8'))"
   ]
  },
  {
   "cell_type": "code",
   "execution_count": 8,
   "metadata": {},
   "outputs": [
    {
     "name": "stdout",
     "output_type": "stream",
     "text": [
      "b'[{\"title\": \"AccessibleComputing\", \"page_id\": 10, \"rev_id\": 854851586, \"text\": \"#REDIRECT [[Computer accessibility]]\\\\n\\\\n{{R from move}}\\\\n{{R from CamelCase}}\\\\n{{R unprintworthy}}\", \"redirect\": \"Computer accessibility\"}, {\"title\": \"Anarchism\", \"page_id\": 12, \"rev_id\": 986546299, \"text\": \"{{short description|Political philosophy and movement}}\\\\n{{redirect2|Anarchist|Anarchists|other uses|Anarchists (disambiguation)}}\\\\n{{pp-move-indef}}\\\\n{{good article}}\\\\n{{use dmy dates|date=March 2020}}\\\\n{{use Bri'\n"
     ]
    }
   ],
   "source": [
    "with bz2.open(\"/Users/klogg/Desktop/testfile.bz2\", \"rb\") as infile:\n",
    "    print(infile.read(500))"
   ]
  },
  {
   "cell_type": "code",
   "execution_count": 9,
   "metadata": {},
   "outputs": [
    {
     "data": {
      "text/plain": [
       "'enwiki-latest-pages-articles9.json-p2936261p4045402.bz2'"
      ]
     },
     "execution_count": 9,
     "metadata": {},
     "output_type": "execute_result"
    }
   ],
   "source": [
    "'enwiki-latest-pages-articles9.xml-p2936261p4045402.bz2'.replace('xml','json')"
   ]
  },
  {
   "cell_type": "code",
   "execution_count": null,
   "metadata": {},
   "outputs": [],
   "source": []
  }
 ],
 "metadata": {
  "kernelspec": {
   "display_name": "Python 3",
   "language": "python",
   "name": "python3"
  },
  "language_info": {
   "codemirror_mode": {
    "name": "ipython",
    "version": 3
   },
   "file_extension": ".py",
   "mimetype": "text/x-python",
   "name": "python",
   "nbconvert_exporter": "python",
   "pygments_lexer": "ipython3",
   "version": "3.7.3"
  }
 },
 "nbformat": 4,
 "nbformat_minor": 4
}
