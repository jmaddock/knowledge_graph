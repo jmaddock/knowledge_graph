{
 "cells": [
  {
   "cell_type": "markdown",
   "metadata": {},
   "source": [
    "## Create Quality Toy Dataset\n",
    "\n",
    "**Author:** Jim Maddock\n",
    "\n",
    "**Last Updated:** 1-4-21\n",
    "\n",
    "**Description:** Filter article quality scores from entire EN dataset so they fit in memory"
   ]
  },
  {
   "cell_type": "code",
   "execution_count": 22,
   "metadata": {},
   "outputs": [],
   "source": [
    "import pandas as pd\n",
    "import csv\n",
    "import numpy as np"
   ]
  },
  {
   "cell_type": "code",
   "execution_count": 10,
   "metadata": {},
   "outputs": [],
   "source": [
    "article_list = pd.read_csv('/Users/klogg/research_data/wmf_knowledge_graph/metrics/article_list_1-4-21.csv')['page_id'].values"
   ]
  },
  {
   "cell_type": "code",
   "execution_count": 29,
   "metadata": {},
   "outputs": [],
   "source": [
    "INFILE_NAME = '/Users/klogg/research_data/wmf_knowledge_graph/metrics/enwiki20160801.monthly_scores.complete.tsv'\n",
    "OUTFILE_NAME = '/Users/klogg/research_data/wmf_knowledge_graph/metrics/en_quality_scores_small_1-4-21.csv'\n",
    "\n",
    "with open(INFILE_NAME,'r') as infile:\n",
    "    with open(OUTFILE_NAME,'w') as outfile:\n",
    "        rd = csv.reader(infile, delimiter=\"\\t\", quotechar='\"')\n",
    "        w = csv.writer(outfile, delimiter=\",\", quotechar='\"')\n",
    "        for i,row in enumerate(rd):\n",
    "            if i == 0:\n",
    "                w.writerow(row)\n",
    "            else:\n",
    "                if np.int64(row[0]) in article_list:\n",
    "                    w.writerow(row)\n",
    "            "
   ]
  },
  {
   "cell_type": "code",
   "execution_count": 20,
   "metadata": {},
   "outputs": [
    {
     "data": {
      "text/plain": [
       "numpy.int64"
      ]
     },
     "execution_count": 20,
     "metadata": {},
     "output_type": "execute_result"
    }
   ],
   "source": [
    "type(article_list[0])"
   ]
  },
  {
   "cell_type": "code",
   "execution_count": null,
   "metadata": {},
   "outputs": [],
   "source": []
  }
 ],
 "metadata": {
  "kernelspec": {
   "display_name": "Python 3",
   "language": "python",
   "name": "python3"
  },
  "language_info": {
   "codemirror_mode": {
    "name": "ipython",
    "version": 3
   },
   "file_extension": ".py",
   "mimetype": "text/x-python",
   "name": "python",
   "nbconvert_exporter": "python",
   "pygments_lexer": "ipython3",
   "version": "3.7.3"
  }
 },
 "nbformat": 4,
 "nbformat_minor": 4
}
