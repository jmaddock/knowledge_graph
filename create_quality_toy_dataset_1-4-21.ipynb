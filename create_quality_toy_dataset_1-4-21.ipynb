{
 "cells": [
  {
   "cell_type": "markdown",
   "metadata": {},
   "source": [
    "## Create Quality Toy Dataset\n",
    "\n",
    "**Author:** Jim Maddock\n",
    "\n",
    "**Last Updated:** 1-4-21\n",
    "\n",
    "**Description:** Filter article quality scores from entire EN dataset so they fit in memory"
   ]
  },
  {
   "cell_type": "code",
   "execution_count": 30,
   "metadata": {},
   "outputs": [],
   "source": [
    "import pandas as pd\n",
    "import csv\n",
    "import numpy as np\n",
    "import bz2"
   ]
  },
  {
   "cell_type": "code",
   "execution_count": 10,
   "metadata": {},
   "outputs": [],
   "source": [
    "article_list = pd.read_csv('/Users/klogg/research_data/wmf_knowledge_graph/metrics/article_list_1-4-21.csv')['page_id'].values"
   ]
  },
  {
   "cell_type": "code",
   "execution_count": 29,
   "metadata": {},
   "outputs": [],
   "source": [
    "INFILE_NAME = '/Users/klogg/research_data/wmf_knowledge_graph/metrics/enwiki20160801.monthly_scores.complete.tsv'\n",
    "OUTFILE_NAME = '/Users/klogg/research_data/wmf_knowledge_graph/metrics/en_quality_scores_small_1-4-21.csv'\n",
    "\n",
    "with open(INFILE_NAME,'r') as infile:\n",
    "    with open(OUTFILE_NAME,'w') as outfile:\n",
    "        rd = csv.reader(infile, delimiter=\"\\t\", quotechar='\"')\n",
    "        w = csv.writer(outfile, delimiter=\",\", quotechar='\"')\n",
    "        for i,row in enumerate(rd):\n",
    "            if i == 0:\n",
    "                w.writerow(row)\n",
    "            else:\n",
    "                if np.int64(row[0]) in article_list:\n",
    "                    w.writerow(row)\n",
    "            "
   ]
  },
  {
   "cell_type": "code",
   "execution_count": 34,
   "metadata": {},
   "outputs": [
    {
     "name": "stdout",
     "output_type": "stream",
     "text": [
      "['page_id', 'title', 'rev_id', 'timestamp', 'prediction', 'weighted_sum']\n"
     ]
    }
   ],
   "source": [
    "with bz2.open('/Users/klogg/research_data/wmf_knowledge_graph/metrics/enwiki20160801.monthly_scores.complete.tsv.bz2', \"rt\") as filestream:\n",
    "    rd = csv.reader(filestream, delimiter=\"\\t\", quotechar='\"')\n",
    "    for line in rd:\n",
    "        print(line)\n",
    "        break"
   ]
  },
  {
   "cell_type": "code",
   "execution_count": 37,
   "metadata": {},
   "outputs": [
    {
     "name": "stdout",
     "output_type": "stream",
     "text": [
      "3929614\tBaoshan, Yunnan\t41600226\t20060301000000\tStub\t0.04123238828568155\n",
      "\n"
     ]
    }
   ],
   "source": [
    "with bz2.open('/Users/klogg/research_data/wmf_knowledge_graph/metrics/enwiki20160801.monthly_scores.complete.tsv.bz2', \"rt\") as filestream:\n",
    "    for i,line in enumerate(filestream):\n",
    "        if i == 495605:\n",
    "            print(line)"
   ]
  },
  {
   "cell_type": "code",
   "execution_count": null,
   "metadata": {},
   "outputs": [],
   "source": []
  }
 ],
 "metadata": {
  "kernelspec": {
   "display_name": "Python 3",
   "language": "python",
   "name": "python3"
  },
  "language_info": {
   "codemirror_mode": {
    "name": "ipython",
    "version": 3
   },
   "file_extension": ".py",
   "mimetype": "text/x-python",
   "name": "python",
   "nbconvert_exporter": "python",
   "pygments_lexer": "ipython3",
   "version": "3.7.3"
  }
 },
 "nbformat": 4,
 "nbformat_minor": 4
}
