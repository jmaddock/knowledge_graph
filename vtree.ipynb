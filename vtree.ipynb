{
 "cells": [
  {
   "cell_type": "markdown",
   "metadata": {},
   "source": [
    "#### a hierarchical n-ary tree\n",
    "\n",
    "recursively clusters input ndarray of embeddings using faiss\n",
    "embeddings must be numpy float32\n",
    "\n",
    "resulting 'nodes' is list of cluster data :\n",
    "{\n",
    "   'parent':parent_node_index,  # index into list of nodes - e.g. the root id is 0\n",
    "   'id':parent_node_index + j,  # index into list of nodes \n",
    "   'labels':rootlabels          # labels are integer row offsets into input ndarray\n",
    "   'kids':[]                    # list of node_ids\n",
    "}\n",
    "\n",
    "It is assumed that there is an associated list of content identifiers of same length as number of rows in input\n",
    "This for each cluster we can fetch associated content\n",
    "\n",
    "This is also suffucient data to build a tree structure - e.g. network digraph\n",
    "Noe that leaf nodes have empty kid lists\n"
   ]
  },
  {
   "cell_type": "code",
   "execution_count": 80,
   "metadata": {},
   "outputs": [],
   "source": [
    "def kmeans_raw(X,K):\n",
    "    \"\"\" cluster X\"\"\"\n",
    "    import faiss\n",
    "    c = faiss.Kmeans(X.shape[1],K,spherical = True,verbose = True)\n",
    "    c.train(X)\n",
    "    sims,labels = c.assign(X)\n",
    "    return sims,labels\n",
    "\n",
    "def split(X,x,xlabels = None,nodes = [],arity = 2,depth = 0,parent_node = {}):\n",
    "    \"\"\"\n",
    "    X is root ndarray\n",
    "    x is current ndarray to cluster\n",
    "    offsets is list of offsets into root ndarray\n",
    "    nodes is a list of data for items in tree\n",
    "    arity is number of clusters\n",
    "    \"\"\"\n",
    "    # clusters - cluster(X, k = arity)\n",
    "    parent_node_index = parent_node['id']\n",
    "    \n",
    "    if depth > 4:\n",
    "        return\n",
    "    try:\n",
    "        sims,labels = kmeans_raw(x,arity)      # labels is list of indices of clusters\n",
    "    except Exception as error:\n",
    "        print(error)\n",
    "        return\n",
    "    \n",
    "    kids = []\n",
    "        \n",
    "    for j in range(arity):\n",
    "        rootlabels = [xlabels[i] for i,k in enumerate(labels) if k == j] # map cluster labels to root labels\n",
    "        if len(rootlabels) < (arity * 2):\n",
    "            continue\n",
    "        this_node_index = parent_node_index  + j + 1   \n",
    "        child_node = {\n",
    "            'parent':parent_node_index,\n",
    "            'id':this_node_index,\n",
    "            'labels':rootlabels\n",
    "        }\n",
    "        \n",
    "\n",
    "        kids.append(this_node_index)\n",
    "        nodes.append(child_node)\n",
    "        _x = X[rootlabels]             # this is a view into source ndarray   \n",
    "        split(X,_x,xlabels,nodes,arity, depth + 1,child_node)\n",
    "    parent_node['kids'] = kids\n",
    "        \n",
    "        \n",
    "        \n",
    "def build_tree(X,arity):\n",
    "    labels = list(range(X.shape[0]))\n",
    "    root_node = {\n",
    "        'parent':None,\n",
    "        'id':0,\n",
    "        'labels':labels\n",
    "    }\n",
    "    nodes = [root_node]\n",
    "    split(X,X,labels,nodes,arity,depth = 0,parent_node = root_node)\n",
    "    return nodes\n",
    "\n",
    "    "
   ]
  },
  {
   "cell_type": "code",
   "execution_count": 81,
   "metadata": {},
   "outputs": [
    {
     "name": "stdout",
     "output_type": "stream",
     "text": [
      "{'parent': None, 'id': 0, 'labels': [0, 1, 2, 3, 4, 5, 6, 7, 8, 9, 10, 11, 12, 13, 14, 15, 16, 17, 18, 19, 20, 21, 22, 23, 24, 25, 26, 27, 28, 29, 30, 31, 32, 33, 34, 35, 36, 37, 38, 39, 40, 41, 42, 43, 44, 45, 46, 47, 48, 49, 50, 51, 52, 53, 54, 55, 56, 57, 58, 59, 60, 61, 62, 63, 64, 65, 66, 67, 68, 69, 70, 71, 72, 73, 74, 75, 76, 77, 78, 79, 80, 81, 82, 83, 84, 85, 86, 87, 88, 89, 90, 91, 92, 93, 94, 95, 96, 97, 98, 99], 'kids': [1, 2]}\n",
      "{'parent': 0, 'id': 1, 'labels': [6, 7, 10, 22, 23, 43, 45, 46, 49, 55, 63, 69, 83, 86, 90], 'kids': [2]}\n",
      "{'parent': 1, 'id': 2, 'labels': [0, 1, 2, 3, 4, 5, 6, 7, 8, 10, 12, 13], 'kids': [3, 4]}\n",
      "{'parent': 2, 'id': 3, 'labels': [0, 1, 3, 4, 5, 7], 'kids': [5]}\n",
      "{'parent': 3, 'id': 5, 'labels': [0, 2, 3, 4, 5], 'kids': []}\n",
      "{'parent': 2, 'id': 4, 'labels': [2, 6, 8, 9, 10, 11], 'kids': [6]}\n",
      "{'parent': 4, 'id': 6, 'labels': [0, 2, 3, 4, 5], 'kids': []}\n",
      "{'parent': 0, 'id': 2, 'labels': [0, 1, 2, 3, 4, 5, 8, 9, 11, 12, 13, 14, 15, 16, 17, 18, 19, 20, 21, 24, 25, 26, 27, 28, 29, 30, 31, 32, 33, 34, 35, 36, 37, 38, 39, 40, 41, 42, 44, 47, 48, 50, 51, 52, 53, 54, 56, 57, 58, 59, 60, 61, 62, 64, 65, 66, 67, 68, 70, 71, 72, 73, 74, 75, 76, 77, 78, 79, 80, 81, 82, 84, 85, 87, 88, 89, 91, 92, 93, 94, 95, 96, 97, 98, 99], 'kids': [3, 4]}\n",
      "{'parent': 2, 'id': 3, 'labels': [0, 1, 2, 3, 4, 5, 6, 7, 8, 9, 10, 12, 13, 14, 15, 16, 17, 18, 19, 20, 21, 22, 23, 24, 25, 26, 27, 28, 30, 31, 32, 33, 34, 35, 36, 37, 38, 39, 40, 43, 44, 45, 46, 47, 48, 49, 50, 51, 52, 54, 55, 56, 57, 59, 60, 61, 62, 63, 64, 65, 66, 67, 68, 69, 70, 71, 72, 73, 74, 75, 77, 78, 79, 80, 81, 82, 83, 84], 'kids': [4, 5]}\n",
      "{'parent': 3, 'id': 4, 'labels': [0, 2, 3, 4, 5, 7, 9, 14, 15, 16, 18, 19, 20, 21, 22, 23, 27, 30, 31, 32, 33, 35, 36, 37, 39, 40, 41, 43, 44, 45, 46, 47, 48, 49, 50, 56, 57, 58, 60, 61, 62, 64, 65, 66, 67, 68, 69, 70, 71, 72, 76, 77], 'kids': [5, 6]}\n",
      "{'parent': 4, 'id': 5, 'labels': [0, 1, 2, 3, 4, 5, 6, 8, 9, 10, 11, 12, 13, 15, 16, 17, 18, 19, 20, 21, 22, 23, 24, 26, 27, 28, 29, 30, 31, 32, 33, 34, 35, 36, 37, 38, 39, 40, 42, 43, 44, 45, 46, 47, 48, 49, 50, 51], 'kids': [6, 7]}\n",
      "{'parent': 5, 'id': 6, 'labels': [5, 22, 29, 31, 32, 35, 39, 41, 43, 45, 46, 47]}\n",
      "{'parent': 5, 'id': 7, 'labels': [0, 1, 2, 3, 4, 6, 7, 8, 9, 10, 11, 12, 13, 14, 15, 16, 17, 18, 19, 20, 21, 23, 24, 25, 26, 27, 28, 30, 33, 34, 36, 37, 38, 40, 42, 44]}\n",
      "{'parent': 4, 'id': 6, 'labels': [7, 14, 25, 41], 'kids': []}\n",
      "{'parent': 3, 'id': 5, 'labels': [1, 6, 8, 10, 11, 12, 13, 17, 24, 25, 26, 28, 29, 34, 38, 42, 51, 52, 53, 54, 55, 59, 63, 73, 74, 75], 'kids': [6, 7]}\n",
      "{'parent': 5, 'id': 6, 'labels': [14, 16, 17, 22, 24], 'kids': []}\n",
      "{'parent': 5, 'id': 7, 'labels': [0, 1, 2, 3, 4, 5, 6, 7, 8, 9, 10, 11, 12, 13, 15, 18, 19, 20, 21, 23, 25], 'kids': [8, 9]}\n",
      "{'parent': 7, 'id': 8, 'labels': [0, 2, 4, 5, 7, 8, 9, 11, 12, 13, 14, 16, 17, 18, 19, 20]}\n",
      "{'parent': 7, 'id': 9, 'labels': [1, 3, 6, 10, 15]}\n",
      "{'parent': 2, 'id': 4, 'labels': [11, 29, 41, 42, 53, 58, 76], 'kids': [6]}\n",
      "{'parent': 4, 'id': 6, 'labels': [0, 1, 2, 3, 4, 5], 'kids': [8]}\n",
      "{'parent': 6, 'id': 8, 'labels': [0, 2, 3, 4, 5], 'kids': []}\n"
     ]
    }
   ],
   "source": [
    "from _utils_.tau_IO import *\n",
    "ts = get_tauset('tauset_wiki_1300_centroids')\n",
    "X = ts[:100].m\n",
    "nodes  = build_tree(X,2)\n",
    "for node in nodes:\n",
    "    print(node)\n"
   ]
  },
  {
   "cell_type": "code",
   "execution_count": null,
   "metadata": {},
   "outputs": [],
   "source": []
  }
 ],
 "metadata": {
  "kernelspec": {
   "display_name": "Python 3",
   "language": "python",
   "name": "python3"
  },
  "language_info": {
   "codemirror_mode": {
    "name": "ipython",
    "version": 3
   },
   "file_extension": ".py",
   "mimetype": "text/x-python",
   "name": "python",
   "nbconvert_exporter": "python",
   "pygments_lexer": "ipython3",
   "version": "3.7.3"
  }
 },
 "nbformat": 4,
 "nbformat_minor": 4
}
