{
 "cells": [
  {
   "cell_type": "code",
   "execution_count": 1,
   "metadata": {},
   "outputs": [],
   "source": [
    "import pandas as pd\n",
    "import numpy as np\n",
    "import json\n",
    "import os\n",
    "\n",
    "pd.set_option(\"display.min_rows\", 100)\n",
    "pd.set_option(\"display.max_rows\", 100)"
   ]
  },
  {
   "cell_type": "code",
   "execution_count": 28,
   "metadata": {},
   "outputs": [
    {
     "data": {
      "text/plain": [
       "['batch_4222837_b0.csv', 'batch_4222842_b1.csv']"
      ]
     },
     "execution_count": 28,
     "metadata": {},
     "output_type": "execute_result"
    }
   ],
   "source": [
    "INPUT_BASEDIR = '/Users/klogg/research_data/wmf_knowledge_graph/mturk/v1/results/'\n",
    "\n",
    "filename_list = [x for x in os.listdir(INPUT_BASEDIR) if x[0] != '.']\n",
    "filename_list"
   ]
  },
  {
   "cell_type": "code",
   "execution_count": 38,
   "metadata": {},
   "outputs": [
    {
     "name": "stdout",
     "output_type": "stream",
     "text": [
      "batch_4222837_b0.csv failed: 16\n",
      "                             HITId        WorkerId Approve\n",
      "0   3PN6H8C9SARNE64EVSK9Y4XUC7YADW  A147F5PJTHOB8A       x\n",
      "1   3PN6H8C9SARNE64EVSK9Y4XUC7YADW  A2LF84L3K71GR2       x\n",
      "2   3PN6H8C9SARNE64EVSK9Y4XUC7YADW  A1FOLU18SK1F0J     NaN\n",
      "3   3A520CCNXT1S6CIERNVT4MFFCJZAEP  A2UI9967G3KJ6U     NaN\n",
      "4   3A520CCNXT1S6CIERNVT4MFFCJZAEP  A2N56JKSAXN8SU       x\n",
      "5   3A520CCNXT1S6CIERNVT4MFFCJZAEP  A1YSYI926BBOHW       x\n",
      "6   3909MD9T35IN23ZM23HLINQ69ZCFE7  A3N6DWJC7P3HSI       x\n",
      "7   3909MD9T35IN23ZM23HLINQ69ZCFE7  A1U3TT3VMH9FU9     NaN\n",
      "8   3909MD9T35IN23ZM23HLINQ69ZCFE7  A1KEA2Z47S3UPI       x\n",
      "9   3S1L4CQSG36KCQIAMYFZM40FOKEAF7  A1Q03KSZ7ULB90     NaN\n",
      "10  3S1L4CQSG36KCQIAMYFZM40FOKEAF7  A3U36WJYNYSNES       x\n",
      "11  3S1L4CQSG36KCQIAMYFZM40FOKEAF7  A2YIB84VKYNKWD       x\n",
      "12  3RWSQDNYMFNF8HZIXE1R05B6L0RFFP   APMUZYFANYEZ3     NaN\n",
      "13  3RWSQDNYMFNF8HZIXE1R05B6L0RFFP  A3FNNLD4O8UI1R       x\n",
      "14  3RWSQDNYMFNF8HZIXE1R05B6L0RFFP  A1KQM6XOT1JEF9     NaN\n",
      "15  3DFYDSXB321KW1I4BTNB1341OUNJUV   A41VZN1ACA16M       x\n",
      "16  3DFYDSXB321KW1I4BTNB1341OUNJUV  A1IQKZL8J4FOEV     NaN\n",
      "17  3DFYDSXB321KW1I4BTNB1341OUNJUV  A25EV7W6NCIWWJ       x\n",
      "18  3OKP4QVBQ8YQQQE5XILH4P0RPZEAG6  A1IFIK8J49WBER       x\n",
      "19  3OKP4QVBQ8YQQQE5XILH4P0RPZEAG6   A1ZQAK7QPDEPH     NaN\n",
      "20  3OKP4QVBQ8YQQQE5XILH4P0RPZEAG6  A2NUGRVI6IEGN7       x\n",
      "21  30UZJB2PPNDSQ8Q077NGDKVWTG853N  A3NYIJYBHAJ74V     NaN\n",
      "22  30UZJB2PPNDSQ8Q077NGDKVWTG853N   AQL7N3YPKDWGW     NaN\n",
      "23  30UZJB2PPNDSQ8Q077NGDKVWTG853N    A58208A71VGW       x\n",
      "24  3NFWQRSHWKFLMHVD8Y79IQBIMFRFGO  A3V2XCDF45VN9X       x\n",
      "25  3NFWQRSHWKFLMHVD8Y79IQBIMFRFGO  A161R7U61GXNFC       x\n",
      "26  3NFWQRSHWKFLMHVD8Y79IQBIMFRFGO   A13GKR9AFUNJU       x\n",
      "27  3GVPRXWRQNVM3FM2G390FABH340I7F   AYR6ZQ8YXMSF5       x\n",
      "28  3GVPRXWRQNVM3FM2G390FABH340I7F  A2E0LU8V4EUX5C       x\n",
      "29  3GVPRXWRQNVM3FM2G390FABH340I7F   A88RBIQEK5OFT       x\n",
      "30  37OPIVELV044QM9GHO3ZPPCS4ZRAH5   AJ7169O0OSHAL       x\n",
      "31  37OPIVELV044QM9GHO3ZPPCS4ZRAH5   AFM65NU0UXIGP       x\n",
      "32  37OPIVELV044QM9GHO3ZPPCS4ZRAH5  A224B514FM71ET       x\n",
      "33  3RZS0FBRXQBKWI42KF7V4T47QTMCPE  A1KCX9ZNB6CE7Z     NaN\n",
      "34  3RZS0FBRXQBKWI42KF7V4T47QTMCPE  A28HQQPBN2MUNR     NaN\n",
      "35  3RZS0FBRXQBKWI42KF7V4T47QTMCPE  A1XOALSVT5ANCM     NaN\n",
      "36  3HXK2V1N5QG1LNJ1K3S2Y7HTDBM2GR  A19D5XESOLLNMA       x\n",
      "37  3HXK2V1N5QG1LNJ1K3S2Y7HTDBM2GR  A1AZ97YYFVWFGC       x\n",
      "38  3HXK2V1N5QG1LNJ1K3S2Y7HTDBM2GR   A5OT4KL6H0A9L     NaN\n",
      "39  301KG0KXAIMFLJEC49AKJ7TUSBZ2HQ  A1O5EGVKYOSFBA     NaN\n",
      "40  301KG0KXAIMFLJEC49AKJ7TUSBZ2HQ  A16S2TL75YHZ79     NaN\n",
      "41  301KG0KXAIMFLJEC49AKJ7TUSBZ2HQ  A1ZW551K40NJ8M       x\n",
      "batch_4222842_b1.csv failed: 16\n",
      "                             HITId        WorkerId Approve\n",
      "0   3JYPJ2TAZO9RZUOCBHXWCZPAN6EFPS  A324TDOKBN9U2B     NaN\n",
      "1   3JYPJ2TAZO9RZUOCBHXWCZPAN6EFPS  A30DCRBVR9BAN7     NaN\n",
      "2   3JYPJ2TAZO9RZUOCBHXWCZPAN6EFPS  A2DVV59R1CQU6T       x\n",
      "3   3BDORL6HLQE58VKHX7BK9O4MRBACR6  A2CHDWKAYZ3P3E       x\n",
      "4   3BDORL6HLQE58VKHX7BK9O4MRBACR6  A20D6NQIJZ7PEO       x\n",
      "5   3BDORL6HLQE58VKHX7BK9O4MRBACR6   AQKSJRY788NXX     NaN\n",
      "6   3GS542CVK1OE5AFGOGOQ4XYIT8I594  A28XB7W1YZ2NFC     NaN\n",
      "7   3GS542CVK1OE5AFGOGOQ4XYIT8I594  A2OJ2KZ5NCGRIF     NaN\n",
      "8   3GS542CVK1OE5AFGOGOQ4XYIT8I594   AD20ZSEI47B13     NaN\n",
      "9   3NSCTNUR35OSATPLGM2Q0S92ZQ05AJ  A2TUUIV61CR0C7       x\n",
      "10  3NSCTNUR35OSATPLGM2Q0S92ZQ05AJ  A1BR0UC2ZG8BH7       x\n",
      "11  3NSCTNUR35OSATPLGM2Q0S92ZQ05AJ  A34LAVR18EPIH5       x\n",
      "12  3IKMEYR0M2W6N9FKAUDHWZ9MKS3K2C  A11YS0T8MV3Q7C       x\n",
      "13  3IKMEYR0M2W6N9FKAUDHWZ9MKS3K2C  A3R7L5UI9IEWGD       x\n",
      "14  3IKMEYR0M2W6N9FKAUDHWZ9MKS3K2C   ADSR2WJ9K8V02       x\n",
      "15  3UQ1LLR27G96CIS689IXHH5ZLG0ALC  A2P10PYKQ0SXF5     NaN\n",
      "16  3UQ1LLR27G96CIS689IXHH5ZLG0ALC   A767BXORH3Z7K       x\n",
      "17  3UQ1LLR27G96CIS689IXHH5ZLG0ALC  A3OT9EHUD1UORR     NaN\n",
      "18  34F34TZU820BCP92S9D5VK995332JV  A1VEXF7BDDZIMI       x\n",
      "19  34F34TZU820BCP92S9D5VK995332JV  A3AHQB31UANS2Q     NaN\n",
      "20  34F34TZU820BCP92S9D5VK995332JV   ABMPX2Y2IRBMG       x\n",
      "21  3IKMEYR0M2W6N9FKAUDHWZ9MKS32KU   AJ68WZD5VJI4C       x\n",
      "22  3IKMEYR0M2W6N9FKAUDHWZ9MKS32KU  A2WJYUAKRQSTJR       x\n",
      "23  3IKMEYR0M2W6N9FKAUDHWZ9MKS32KU  A2978RGIC2F1RU       x\n",
      "24  329E6HTMT23V8RB3EURMF9EEQ63K3N  A1BQ23IXXOJRRL     NaN\n",
      "25  329E6HTMT23V8RB3EURMF9EEQ63K3N  A282TZDQY5QHLO       x\n",
      "26  329E6HTMT23V8RB3EURMF9EEQ63K3N  A25LXRZ7HED8RM       x\n",
      "27  3R16PJFTT9SGQNU7E8W5PE6K46ZK48   A9K6IVBA0J1CX       x\n",
      "28  3R16PJFTT9SGQNU7E8W5PE6K46ZK48  A1VM6NUT8X5OPY     NaN\n",
      "29  3R16PJFTT9SGQNU7E8W5PE6K46ZK48  A2DVV59R1CQU6T       x\n",
      "30  3PCPFX4U56RCZ6PRBUCLC4FKS20FQJ  A38B2ONJWDQNK2     NaN\n",
      "31  3PCPFX4U56RCZ6PRBUCLC4FKS20FQJ  A1BT5A0F5MBIJY       x\n",
      "32  3PCPFX4U56RCZ6PRBUCLC4FKS20FQJ  A2PK7L31SZG0F3       x\n",
      "33  39KMGHJ4S5BXE952REZLUR1Y9WD002   AC0BP4IGV99MS       x\n",
      "34  39KMGHJ4S5BXE952REZLUR1Y9WD002   AA06VO3XJ6KZZ       x\n",
      "35  39KMGHJ4S5BXE952REZLUR1Y9WD002  A27WORQ1PKT4G6     NaN\n",
      "36  3NZ1E5QA752XT3UDM02MV3T8H8L5BE  A1GZADBZ6AOYR3     NaN\n",
      "37  3NZ1E5QA752XT3UDM02MV3T8H8L5BE   AJ9356RKKZTY4       x\n",
      "38  3NZ1E5QA752XT3UDM02MV3T8H8L5BE  A15UV1AEQFLKYZ     NaN\n",
      "39  3D06DR523BKQI0AR8LJCHUKOLLQAME  A3PPTD0WWNOXYK       x\n",
      "40  3D06DR523BKQI0AR8LJCHUKOLLQAME  A1U4DNYKF6YUY3       x\n",
      "41  3D06DR523BKQI0AR8LJCHUKOLLQAME  A1LL4WHOQTM6JA     NaN\n"
     ]
    }
   ],
   "source": [
    "OUTPUT_BASEDIR = '/Users/klogg/research_data/wmf_knowledge_graph/mturk/v1/approve/'\n",
    "\n",
    "TASKS_PER_JOB = 10\n",
    "ARTICLES_PER_TASK = 5\n",
    "\n",
    "for filename in filename_list:\n",
    "    input_filepath = os.path.join(INPUT_BASEDIR,filename)\n",
    "    df = pd.read_csv(input_filepath)\n",
    "    \n",
    "    for i, job_row in df.iterrows():\n",
    "        answer_dict = json.loads(job_row['Answer.taskAnswers'])[0]\n",
    "        imposter_map = json.loads(answer_dict['imposter_map'])\n",
    "        task_list = answer_dict['task_list'].split(',')\n",
    "        \n",
    "        '''for i in range(0,TASKS_PER_JOB):\n",
    "            key = 'articleList{0}'.format(i)\n",
    "            for answer in answer_dict[key]:\n",
    "                if int(answer.split('_',1)[0]) == ARTICLES_PER_TASK:\n",
    "                    if imposter_map[str(task_list[i])] != answer.split('_',1)[1]:\n",
    "                        raise ValueError'''\n",
    "                    \n",
    "        if answer_dict['attnCheck'][str(5)]:\n",
    "            df.loc[i,'Approve'] = 'x'\n",
    "        else:\n",
    "            df.loc[i,'Reject'] = 'Failed attention check.'\n",
    "            \n",
    "    print('{0} failed: {1}'.format(filename,len(df.loc[df['Approve'] != 'x'])))\n",
    "    print(df[['HITId','WorkerId','Approve']])\n",
    "            \n",
    "    output_filepath = os.path.join(OUTPUT_BASEDIR,filename)\n",
    "    df.to_csv(output_filepath)"
   ]
  },
  {
   "cell_type": "code",
   "execution_count": 35,
   "metadata": {},
   "outputs": [
    {
     "data": {
      "text/plain": [
       "Index(['HITId', 'HITTypeId', 'Title', 'Description', 'Keywords', 'Reward',\n",
       "       'CreationTime', 'MaxAssignments', 'RequesterAnnotation',\n",
       "       'AssignmentDurationInSeconds', 'AutoApprovalDelayInSeconds',\n",
       "       'Expiration', 'NumberOfSimilarHITs', 'LifetimeInSeconds',\n",
       "       'AssignmentId', 'WorkerId', 'AssignmentStatus', 'AcceptTime',\n",
       "       'SubmitTime', 'AutoApprovalTime', 'ApprovalTime', 'RejectionTime',\n",
       "       'RequesterFeedback', 'WorkTimeInSeconds', 'LifetimeApprovalRate',\n",
       "       'Last30DaysApprovalRate', 'Last7DaysApprovalRate', 'Input.val_0_0',\n",
       "       'Input.val_0_1', 'Input.val_0_2', 'Input.val_0_3', 'Input.val_0_4',\n",
       "       'Input.val_0_5', 'Input.val_1_0', 'Input.val_1_1', 'Input.val_1_2',\n",
       "       'Input.val_1_3', 'Input.val_1_4', 'Input.val_1_5', 'Input.val_2_0',\n",
       "       'Input.val_2_1', 'Input.val_2_2', 'Input.val_2_3', 'Input.val_2_4',\n",
       "       'Input.val_2_5', 'Input.val_3_0', 'Input.val_3_1', 'Input.val_3_2',\n",
       "       'Input.val_3_3', 'Input.val_3_4', 'Input.val_3_5', 'Input.val_4_0',\n",
       "       'Input.val_4_1', 'Input.val_4_2', 'Input.val_4_3', 'Input.val_4_4',\n",
       "       'Input.val_4_5', 'Input.val_5_0', 'Input.val_5_1', 'Input.val_5_2',\n",
       "       'Input.val_5_3', 'Input.val_5_4', 'Input.val_5_5', 'Input.val_6_0',\n",
       "       'Input.val_6_1', 'Input.val_6_2', 'Input.val_6_3', 'Input.val_6_4',\n",
       "       'Input.val_6_5', 'Input.val_7_0', 'Input.val_7_1', 'Input.val_7_2',\n",
       "       'Input.val_7_3', 'Input.val_7_4', 'Input.val_7_5', 'Input.val_8_0',\n",
       "       'Input.val_8_1', 'Input.val_8_2', 'Input.val_8_3', 'Input.val_8_4',\n",
       "       'Input.val_8_5', 'Input.val_9_0', 'Input.val_9_1', 'Input.val_9_2',\n",
       "       'Input.val_9_3', 'Input.val_9_4', 'Input.val_9_5', 'Input.task_batch',\n",
       "       'Input.task_list', 'Input.imposter_map', 'Answer.taskAnswers',\n",
       "       'Approve', 'Reject'],\n",
       "      dtype='object')"
      ]
     },
     "execution_count": 35,
     "metadata": {},
     "output_type": "execute_result"
    }
   ],
   "source": [
    "df.columns"
   ]
  },
  {
   "cell_type": "code",
   "execution_count": null,
   "metadata": {},
   "outputs": [],
   "source": []
  }
 ],
 "metadata": {
  "kernelspec": {
   "display_name": "Python 3",
   "language": "python",
   "name": "python3"
  },
  "language_info": {
   "codemirror_mode": {
    "name": "ipython",
    "version": 3
   },
   "file_extension": ".py",
   "mimetype": "text/x-python",
   "name": "python",
   "nbconvert_exporter": "python",
   "pygments_lexer": "ipython3",
   "version": "3.7.3"
  }
 },
 "nbformat": 4,
 "nbformat_minor": 4
}
