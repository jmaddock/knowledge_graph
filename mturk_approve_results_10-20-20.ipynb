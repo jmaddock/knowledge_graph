{
 "cells": [
  {
   "cell_type": "code",
   "execution_count": 52,
   "metadata": {},
   "outputs": [],
   "source": [
    "import pandas as pd\n",
    "import numpy as np\n",
    "import json\n",
    "import os\n",
    "\n",
    "pd.set_option(\"display.min_rows\", 100)\n",
    "pd.set_option(\"display.max_rows\", 100)"
   ]
  },
  {
   "cell_type": "code",
   "execution_count": 53,
   "metadata": {},
   "outputs": [
    {
     "data": {
      "text/plain": [
       "['batch_4222837_b0.csv',\n",
       " 'batch_4224237_b2.csv',\n",
       " 'batch_4224240_b3.csv',\n",
       " 'batch_4222842_b1.csv',\n",
       " 'batch_4224241_b4.csv']"
      ]
     },
     "execution_count": 53,
     "metadata": {},
     "output_type": "execute_result"
    }
   ],
   "source": [
    "INPUT_BASEDIR = '/Users/klogg/research_data/wmf_knowledge_graph/mturk/v1/results/'\n",
    "\n",
    "filename_list = [x for x in os.listdir(INPUT_BASEDIR) if x[0] != '.']\n",
    "filename_list"
   ]
  },
  {
   "cell_type": "code",
   "execution_count": 54,
   "metadata": {},
   "outputs": [
    {
     "name": "stdout",
     "output_type": "stream",
     "text": [
      "batch_4222837_b0.csv failed: 22, approved: 43\n",
      "batch_4224237_b2.csv failed: 11, approved: 42\n",
      "batch_4224240_b3.csv failed: 23, approved: 42\n",
      "batch_4222842_b1.csv failed: 29, approved: 40\n",
      "batch_4224241_b4.csv failed: 36, approved: 44\n"
     ]
    }
   ],
   "source": [
    "OUTPUT_BASEDIR = '/Users/klogg/research_data/wmf_knowledge_graph/mturk/v1/approve/'\n",
    "\n",
    "TASKS_PER_JOB = 10\n",
    "ARTICLES_PER_TASK = 5\n",
    "\n",
    "for filename in filename_list:\n",
    "    input_filepath = os.path.join(INPUT_BASEDIR,filename)\n",
    "    df = pd.read_csv(input_filepath)\n",
    "    \n",
    "    for i, job_row in df.iterrows():\n",
    "        answer_dict = json.loads(job_row['Answer.taskAnswers'])[0]\n",
    "        imposter_map = json.loads(answer_dict['imposter_map'])\n",
    "        task_list = answer_dict['task_list'].split(',')\n",
    "        \n",
    "        '''for i in range(0,TASKS_PER_JOB):\n",
    "            key = 'articleList{0}'.format(i)\n",
    "            for answer in answer_dict[key]:\n",
    "                if int(answer.split('_',1)[0]) == ARTICLES_PER_TASK:\n",
    "                    if imposter_map[str(task_list[i])] != answer.split('_',1)[1]:\n",
    "                        raise ValueError'''\n",
    "                    \n",
    "        if answer_dict['attnCheck'][str(5)]:\n",
    "            df.loc[i,'Approve'] = 'x'\n",
    "        else:\n",
    "            df.loc[i,'Reject'] = 'Failed attention check.'\n",
    "            \n",
    "    print('{0} failed: {1}, approved: {2}'.format(filename,\n",
    "                                                  len(df.loc[df['Approve'] != 'x']),\n",
    "                                                  len(df.loc[df['Approve'] == 'x'])))\n",
    "    #print(df[['HITId','WorkerId','Approve']])\n",
    "            \n",
    "    output_filepath = os.path.join(OUTPUT_BASEDIR,filename)\n",
    "    df.to_csv(output_filepath)"
   ]
  },
  {
   "cell_type": "code",
   "execution_count": 35,
   "metadata": {},
   "outputs": [
    {
     "data": {
      "text/plain": [
       "Index(['HITId', 'HITTypeId', 'Title', 'Description', 'Keywords', 'Reward',\n",
       "       'CreationTime', 'MaxAssignments', 'RequesterAnnotation',\n",
       "       'AssignmentDurationInSeconds', 'AutoApprovalDelayInSeconds',\n",
       "       'Expiration', 'NumberOfSimilarHITs', 'LifetimeInSeconds',\n",
       "       'AssignmentId', 'WorkerId', 'AssignmentStatus', 'AcceptTime',\n",
       "       'SubmitTime', 'AutoApprovalTime', 'ApprovalTime', 'RejectionTime',\n",
       "       'RequesterFeedback', 'WorkTimeInSeconds', 'LifetimeApprovalRate',\n",
       "       'Last30DaysApprovalRate', 'Last7DaysApprovalRate', 'Input.val_0_0',\n",
       "       'Input.val_0_1', 'Input.val_0_2', 'Input.val_0_3', 'Input.val_0_4',\n",
       "       'Input.val_0_5', 'Input.val_1_0', 'Input.val_1_1', 'Input.val_1_2',\n",
       "       'Input.val_1_3', 'Input.val_1_4', 'Input.val_1_5', 'Input.val_2_0',\n",
       "       'Input.val_2_1', 'Input.val_2_2', 'Input.val_2_3', 'Input.val_2_4',\n",
       "       'Input.val_2_5', 'Input.val_3_0', 'Input.val_3_1', 'Input.val_3_2',\n",
       "       'Input.val_3_3', 'Input.val_3_4', 'Input.val_3_5', 'Input.val_4_0',\n",
       "       'Input.val_4_1', 'Input.val_4_2', 'Input.val_4_3', 'Input.val_4_4',\n",
       "       'Input.val_4_5', 'Input.val_5_0', 'Input.val_5_1', 'Input.val_5_2',\n",
       "       'Input.val_5_3', 'Input.val_5_4', 'Input.val_5_5', 'Input.val_6_0',\n",
       "       'Input.val_6_1', 'Input.val_6_2', 'Input.val_6_3', 'Input.val_6_4',\n",
       "       'Input.val_6_5', 'Input.val_7_0', 'Input.val_7_1', 'Input.val_7_2',\n",
       "       'Input.val_7_3', 'Input.val_7_4', 'Input.val_7_5', 'Input.val_8_0',\n",
       "       'Input.val_8_1', 'Input.val_8_2', 'Input.val_8_3', 'Input.val_8_4',\n",
       "       'Input.val_8_5', 'Input.val_9_0', 'Input.val_9_1', 'Input.val_9_2',\n",
       "       'Input.val_9_3', 'Input.val_9_4', 'Input.val_9_5', 'Input.task_batch',\n",
       "       'Input.task_list', 'Input.imposter_map', 'Answer.taskAnswers',\n",
       "       'Approve', 'Reject'],\n",
       "      dtype='object')"
      ]
     },
     "execution_count": 35,
     "metadata": {},
     "output_type": "execute_result"
    }
   ],
   "source": [
    "df.columns"
   ]
  },
  {
   "cell_type": "code",
   "execution_count": null,
   "metadata": {},
   "outputs": [],
   "source": []
  }
 ],
 "metadata": {
  "kernelspec": {
   "display_name": "Python 3",
   "language": "python",
   "name": "python3"
  },
  "language_info": {
   "codemirror_mode": {
    "name": "ipython",
    "version": 3
   },
   "file_extension": ".py",
   "mimetype": "text/x-python",
   "name": "python",
   "nbconvert_exporter": "python",
   "pygments_lexer": "ipython3",
   "version": "3.7.3"
  }
 },
 "nbformat": 4,
 "nbformat_minor": 4
}
