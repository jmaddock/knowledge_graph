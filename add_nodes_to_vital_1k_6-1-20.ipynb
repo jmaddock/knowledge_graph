{
 "cells": [
  {
   "cell_type": "code",
   "execution_count": 46,
   "metadata": {},
   "outputs": [],
   "source": [
    "import json\n",
    "import random\n",
    "import uuid\n",
    "import networkx as nx"
   ]
  },
  {
   "cell_type": "code",
   "execution_count": 47,
   "metadata": {},
   "outputs": [],
   "source": [
    "FILEPATH = '/Users/klogg/research_data/wmf_knowledge_graph/wiki_5-28-20/wiki_vitals_graph.json'\n",
    "\n",
    "with open(FILEPATH) as json_file:\n",
    "    json_graph = json.load(json_file)\n",
    "    json_graph = json_graph['tree_data']"
   ]
  },
  {
   "cell_type": "code",
   "execution_count": 48,
   "metadata": {},
   "outputs": [],
   "source": [
    "graph = nx.Graph()\n",
    "id_map = {}\n",
    "name_map = {}\n",
    "\n",
    "rd = random.Random()\n",
    "rd.seed(0)\n",
    "\n",
    "for node in json_graph['nodes']:\n",
    "    node_uuid = uuid.UUID(int=rd.getrandbits(128))\n",
    "    id_map[node[0]] = node_uuid\n",
    "    name_map[node[1]['name']] = node_uuid\n",
    "    node[1]['old_id'] = node[1]['id']\n",
    "    graph.add_node(node_uuid,**node[1])\n",
    "    \n",
    "for edge in json_graph['edges']:\n",
    "    graph.add_edge(id_map[edge[0]], id_map[edge[1]], **edge[2])\n",
    "    \n",
    "assert graph.nodes[uuid.UUID('eb1167b3-67a9-c378-7c65-c1e582e2e662')]['name'] == 'arts'"
   ]
  },
  {
   "cell_type": "code",
   "execution_count": 49,
   "metadata": {},
   "outputs": [],
   "source": [
    "FILEPATH = '/Users/klogg/research_data/wmf_knowledge_graph/wiki_5-28-20/all_links.json'\n",
    "\n",
    "with open(FILEPATH) as json_file:\n",
    "    link_list = json.load(json_file)\n",
    "    \n",
    "for vital_node in link_list:\n",
    "    for linked_node in link_list[vital_node]:\n",
    "        node_uuid = uuid.UUID(int=rd.getrandbits(128))\n",
    "        name_map[linked_node] = node_uuid\n",
    "        graph.add_node(node_uuid,name=linked_node)\n",
    "        graph.add_edge(\n",
    "            node_uuid,\n",
    "            name_map[vital_node],\n",
    "            type='explicit_neighbor'\n",
    "        )"
   ]
  },
  {
   "cell_type": "code",
   "execution_count": null,
   "metadata": {},
   "outputs": [],
   "source": []
  }
 ],
 "metadata": {
  "kernelspec": {
   "display_name": "Python 3",
   "language": "python",
   "name": "python3"
  },
  "language_info": {
   "codemirror_mode": {
    "name": "ipython",
    "version": 3
   },
   "file_extension": ".py",
   "mimetype": "text/x-python",
   "name": "python",
   "nbconvert_exporter": "python",
   "pygments_lexer": "ipython3",
   "version": "3.7.3"
  }
 },
 "nbformat": 4,
 "nbformat_minor": 4
}
